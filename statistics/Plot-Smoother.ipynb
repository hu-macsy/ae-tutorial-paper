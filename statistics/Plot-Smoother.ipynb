{
 "cells": [
  {
   "cell_type": "code",
   "execution_count": null,
   "metadata": {},
   "outputs": [],
   "source": [
    "import math\n",
    "import random\n",
    "\n",
    "import numpy\n",
    "import scipy\n",
    "import scipy.stats"
   ]
  },
  {
   "cell_type": "code",
   "execution_count": null,
   "metadata": {},
   "outputs": [],
   "source": [
    "import matplotlib.pyplot as plt\n",
    "plt.style.use('seaborn-darkgrid')\n",
    "\n",
    "%matplotlib inline"
   ]
  },
  {
   "cell_type": "code",
   "execution_count": null,
   "metadata": {},
   "outputs": [],
   "source": [
    "def recommendNumberOfRepetitions(values, targetRatio = 0.2):\n",
    "    standardErrors = [ math.sqrt(numpy.var(runs)/len(runs)) for runs in values]\n",
    "    measuredMeans = [numpy.mean(runs) for runs in values]\n",
    "    diffsToNext = [abs(measuredMeans[i] - measuredMeans[i+1]) for i in range(len(measuredMeans)-1)]\n",
    "    repetitionsForRun = [len(runs) for runs in values]\n",
    "\n",
    "    factorLambda = lambda pair: (pair[0]/(pair[1]*targetRatio))**2\n",
    "    factors = list(map(factorLambda, zip(standardErrors,diffsToNext)))\n",
    "    correctionFactor = scipy.stats.mstats.gmean(factors)\n",
    "    \n",
    "    return math.ceil(numpy.mean(repetitionsForRun)*correctionFactor)"
   ]
  },
  {
   "cell_type": "code",
   "execution_count": null,
   "metadata": {},
   "outputs": [],
   "source": [
    "def generateExampleMeasurements(nList, alpha, beta, repetitions, variance):\n",
    "    logTrueMeans = [alpha*n**beta for n in nList]\n",
    "    times = [[random.lognormvariate(math.log(mean), variance) for i in range(repetitions)] for mean in logTrueMeans]\n",
    "    return times"
   ]
  },
  {
   "cell_type": "code",
   "execution_count": null,
   "metadata": {},
   "outputs": [],
   "source": [
    "def sampleAdditional(times, fidelity, blackBoxFunction):\n",
    "    recommendedRepetitions = recommendNumberOfRepetitions(times,fidelity)\n",
    "    repetitions = len(times[0])\n",
    "    print(\"Ratio  \", fidelity, \": \", end='')\n",
    "    while recommendedRepetitions > repetitions:\n",
    "        # More repetitions recommended to smooth out plot\n",
    "        print(\"Taking \", recommendedRepetitions-repetitions, \" additional samples per point.\")\n",
    "        additional = blackBoxFunction(recommendedRepetitions-repetitions)\n",
    "        times = list(map(lambda pair: pair[0]+pair[1], zip(times,additional)))\n",
    "        #times = [pair[0]+pair[1] for pair in zip(times,additional)]\n",
    "        repetitions = recommendedRepetitions\n",
    "        recommendedRepetitions = recommendNumberOfRepetitions(times,fidelity)\n",
    "    smoothedMeans = [numpy.mean(runs) for runs in times]\n",
    "    plt.plot(nList, smoothedMeans)\n",
    "    print(repetitions, \" repetitions were sufficient.\")\n",
    "    return times"
   ]
  },
  {
   "cell_type": "code",
   "execution_count": null,
   "metadata": {},
   "outputs": [],
   "source": [
    "nList = [2**(10 + e/5) for e in range(10,30)]\n",
    "\n",
    "alpha = 0.001\n",
    "beta = 1.1\n",
    "\n",
    "repetitions = 3\n",
    "variance = 0.5\n",
    "times = generateExampleMeasurements(nList, alpha, beta, repetitions, variance)\n",
    "\n",
    "def blackBoxFunction(repetitions):\n",
    "    return generateExampleMeasurements(nList, alpha, beta, repetitions, variance)"
   ]
  },
  {
   "cell_type": "code",
   "execution_count": null,
   "metadata": {},
   "outputs": [],
   "source": [
    "measuredMeans = [numpy.mean(runs) for runs in times]\n",
    "\n",
    "plt.plot(nList, measuredMeans)"
   ]
  },
  {
   "cell_type": "code",
   "execution_count": null,
   "metadata": {},
   "outputs": [],
   "source": [
    "times = sampleAdditional(times, 1, blackBoxFunction)"
   ]
  },
  {
   "cell_type": "code",
   "execution_count": null,
   "metadata": {},
   "outputs": [],
   "source": [
    "times = sampleAdditional(times, 0.5, blackBoxFunction)"
   ]
  },
  {
   "cell_type": "code",
   "execution_count": null,
   "metadata": {},
   "outputs": [],
   "source": [
    "times = sampleAdditional(times, 0.3, blackBoxFunction)"
   ]
  },
  {
   "cell_type": "code",
   "execution_count": null,
   "metadata": {},
   "outputs": [],
   "source": [
    "times = sampleAdditional(times, 0.2, blackBoxFunction)"
   ]
  },
  {
   "cell_type": "code",
   "execution_count": null,
   "metadata": {},
   "outputs": [],
   "source": [
    "times = sampleAdditional(times, 0.1, blackBoxFunction)"
   ]
  },
  {
   "cell_type": "code",
   "execution_count": null,
   "metadata": {},
   "outputs": [],
   "source": []
  }
 ],
 "metadata": {
  "kernelspec": {
   "display_name": "Python 3",
   "language": "python",
   "name": "python3"
  },
  "language_info": {
   "codemirror_mode": {
    "name": "ipython",
    "version": 3
   },
   "file_extension": ".py",
   "mimetype": "text/x-python",
   "name": "python",
   "nbconvert_exporter": "python",
   "pygments_lexer": "ipython3",
   "version": "3.5.2"
  }
 },
 "nbformat": 4,
 "nbformat_minor": 2
}
