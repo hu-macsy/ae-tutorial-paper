{
 "cells": [
  {
   "cell_type": "code",
   "execution_count": null,
   "metadata": {},
   "outputs": [],
   "source": [
    "import pymc3 as pm"
   ]
  },
  {
   "cell_type": "code",
   "execution_count": null,
   "metadata": {},
   "outputs": [],
   "source": [
    "import numpy as np"
   ]
  },
  {
   "cell_type": "code",
   "execution_count": null,
   "metadata": {},
   "outputs": [],
   "source": [
    "import random"
   ]
  },
  {
   "cell_type": "code",
   "execution_count": null,
   "metadata": {},
   "outputs": [],
   "source": [
    "import math\n",
    "\n",
    "from scipy import optimize"
   ]
  },
  {
   "cell_type": "code",
   "execution_count": null,
   "metadata": {},
   "outputs": [],
   "source": [
    "import matplotlib.pyplot as plt\n",
    "plt.style.use('seaborn-darkgrid')\n",
    "%matplotlib inline"
   ]
  },
  {
   "cell_type": "markdown",
   "metadata": {},
   "source": [
    "## Read Files"
   ]
  },
  {
   "cell_type": "code",
   "execution_count": null,
   "metadata": {},
   "outputs": [],
   "source": [
    "nativeFile = \"properties-native-repetitions.dat\"\n",
    "compFile = \"properties-bandgen-repetitions.dat\""
   ]
  },
  {
   "cell_type": "code",
   "execution_count": null,
   "metadata": {},
   "outputs": [],
   "source": [
    "colNames = [\"avgDegree\", \"Diameter\", \"cc\", \"degen\", \"degAss\"]\n",
    "numCols = len(colNames)"
   ]
  },
  {
   "cell_type": "code",
   "execution_count": null,
   "metadata": {},
   "outputs": [],
   "source": [
    "def readFile(filename):\n",
    "    result = dict()\n",
    "    targetNumCols = 7\n",
    "    with open(filename, 'r') as f:\n",
    "        for line in f:\n",
    "            elems = line.split()\n",
    "            floats = [float(elem) for elem in elems]\n",
    "            # skip lines with wrong number of columns\n",
    "            if not len(floats)-3 == targetNumCols:\n",
    "                print(\"Malformed line.\")\n",
    "                continue\n",
    "            \n",
    "            # first three columns are experiment parameters: T, gamma, k\n",
    "            keytuple = (floats[0], floats[1], floats[2])\n",
    "            if not keytuple in result:\n",
    "                result[keytuple] = []\n",
    "                \n",
    "            result[keytuple].append(floats[3:])\n",
    "    return result"
   ]
  },
  {
   "cell_type": "code",
   "execution_count": null,
   "metadata": {},
   "outputs": [],
   "source": [
    "nativeDict  = readFile(nativeFile)"
   ]
  },
  {
   "cell_type": "code",
   "execution_count": null,
   "metadata": {},
   "outputs": [],
   "source": [
    "compDict = readFile(compFile)"
   ]
  },
  {
   "cell_type": "markdown",
   "metadata": {},
   "source": [
    "## Compute Differences"
   ]
  },
  {
   "cell_type": "code",
   "execution_count": null,
   "metadata": {},
   "outputs": [],
   "source": [
    "# only compare measurements for the same set of keys\n",
    "commonKeys = nativeDict.keys() & compDict.keys()"
   ]
  },
  {
   "cell_type": "code",
   "execution_count": null,
   "metadata": {},
   "outputs": [],
   "source": [
    "# Pair measurements for same input parameters, take their relative difference\n",
    "# Assumption: Normally distributed errors, so the differences follow a normal distribution\n",
    "differences = []\n",
    "for key in sorted(commonKeys):\n",
    "    numSamples = min(len(nativeDict[key]), len(compDict[key]))\n",
    "    for i in range(numSamples):\n",
    "        diff = np.divide(np.subtract(nativeDict[key][i], compDict[key][i]), nativeDict[key][i])\n",
    "        # We do not take all columns, as the last two were from methods with questionable reliability\n",
    "        differences.append(diff[:numCols])"
   ]
  },
  {
   "cell_type": "code",
   "execution_count": null,
   "metadata": {},
   "outputs": [],
   "source": [
    "numProps = numCols\n",
    "numKeys = len(commonKeys)"
   ]
  },
  {
   "cell_type": "code",
   "execution_count": null,
   "metadata": {},
   "outputs": [],
   "source": [
    "# We have 6007 data measurements with 5 values each, represented as a 6007*5 array.\n",
    "np.array(differences).shape"
   ]
  },
  {
   "cell_type": "markdown",
   "metadata": {},
   "source": [
    "## Define statistical model"
   ]
  },
  {
   "cell_type": "markdown",
   "metadata": {},
   "source": [
    "We (somewhat arbitrarily) say that the two generators are equivalent in practice\n",
    "if the difference between their average results is one order of magnitude less than the variability\n",
    "_within_ the results of each generator. Thus 0.1."
   ]
  },
  {
   "cell_type": "code",
   "execution_count": null,
   "metadata": {},
   "outputs": [],
   "source": [
    "threshold = 0.1"
   ]
  },
  {
   "cell_type": "code",
   "execution_count": null,
   "metadata": {},
   "outputs": [],
   "source": [
    "basic_model = pm.Model()\n",
    "\n",
    "with basic_model:\n",
    "    pi = (0.999, 0.001)\n",
    "    assert(sum(pi) == 1)\n",
    "\n",
    "    # Indicator variable for which model is selected: 1 is for equivalence, 0 for difference\n",
    "    selected_model = pm.Bernoulli('selected_model', p=pi[1])\n",
    "\n",
    "    # Prior uniform distribution for the mean normalized difference in equivalence hypothesis\n",
    "    # Support on [0, 0.1], one variable per property.\n",
    "    b = pm.Uniform('b', lower=0, upper=threshold, shape=(numProps))\n",
    "    \n",
    "    # Prior distribution for mean normalized difference in alternate hypothesis\n",
    "    # Support on [0.1, infinity], one variable per property.\n",
    "    c = pm.Bound(pm.Exponential, lower=threshold)('c', lam=1, shape=(numProps))\n",
    "    \n",
    "    # Variance of results. Unknown, thus included as free variable.\n",
    "    # One variable per property.\n",
    "    sigma = pm.InverseGamma('sigma', alpha=1,beta=1, shape=(numProps))\n",
    "\n",
    "    # Direction of difference. Unknown, thus included as free variable.\n",
    "    # One variable per property.\n",
    "    sign = pm.Bernoulli('sign', p=0.5, shape=(numProps))\n",
    "\n",
    "    # mean of distribution of differences. \n",
    "    # Deterministic variable depending on sign, selected_model, b, c and sigma\n",
    "    mu = (1-2*sign)*(selected_model*(b)+(1-selected_model)*c)*sigma\n",
    "\n",
    "    # Observed differences\n",
    "    Y_obs = pm.Normal('Y_obs', mu=mu, sd=math.sqrt(2)*sigma, observed=np.array(differences), shape=(numProps))"
   ]
  },
  {
   "cell_type": "markdown",
   "metadata": {},
   "source": [
    "## Use MCMC for inference"
   ]
  },
  {
   "cell_type": "code",
   "execution_count": null,
   "metadata": {},
   "outputs": [],
   "source": [
    "with basic_model:\n",
    "    # draw 10000 posterior samples\n",
    "    trace = pm.sample(10000, tune=1000)\n",
    "\n",
    "# Plot traces.\n",
    "_ = pm.traceplot(trace)"
   ]
  },
  {
   "cell_type": "code",
   "execution_count": null,
   "metadata": {},
   "outputs": [],
   "source": [
    "pm.summary(trace)"
   ]
  },
  {
   "cell_type": "markdown",
   "metadata": {},
   "source": [
    "## Compute Bayes Factor"
   ]
  },
  {
   "cell_type": "code",
   "execution_count": null,
   "metadata": {},
   "outputs": [],
   "source": [
    "# Bayes factor is the posterior odds ratio divided by the prior odds ratio.\n",
    "BF = (pm.summary(trace)['mean']['selected_model']/(1-pm.summary(trace)['mean']['selected_model'])) / (pi[1]/pi[0])"
   ]
  },
  {
   "cell_type": "code",
   "execution_count": null,
   "metadata": {},
   "outputs": [],
   "source": [
    "# In this model, a Bayes factor above 10 supports the hypothesis that both distributions are equivalent,\n",
    "# a Bayes factor below 0.1 supports the opposite hypothesis. Further away from 1 means stronger support.\n",
    "# If a Bayes factor is 0 or infinity, it is beyond the precision achievable with the chosen 10000 samples.\n",
    "print(BF)"
   ]
  }
 ],
 "metadata": {
  "kernelspec": {
   "display_name": "Python 3",
   "language": "python",
   "name": "python3"
  },
  "language_info": {
   "codemirror_mode": {
    "name": "ipython",
    "version": 3
   },
   "file_extension": ".py",
   "mimetype": "text/x-python",
   "name": "python",
   "nbconvert_exporter": "python",
   "pygments_lexer": "ipython3",
   "version": "3.5.2"
  }
 },
 "nbformat": 4,
 "nbformat_minor": 2
}
