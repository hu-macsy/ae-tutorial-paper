{
 "cells": [
  {
   "cell_type": "code",
   "execution_count": null,
   "metadata": {},
   "outputs": [],
   "source": [
    "import aextl\n",
    "import numpy\n",
    "import os\n",
    "import yaml\n",
    "import math\n",
    "\n",
    "import scipy\n",
    "import scipy.stats\n",
    "\n",
    "cfg = aextl.config_for_dir(\"/home/moritz/Seminar/experimental-algorithmics-for-na-paper/experiments\")"
   ]
  },
  {
   "cell_type": "code",
   "execution_count": null,
   "metadata": {},
   "outputs": [],
   "source": [
    "import matplotlib.pyplot as plt\n",
    "plt.style.use('seaborn-darkgrid')\n",
    "\n",
    "%matplotlib inline"
   ]
  },
  {
   "cell_type": "markdown",
   "metadata": {},
   "source": [
    "# Read in Experimental Results"
   ]
  },
  {
   "cell_type": "code",
   "execution_count": null,
   "metadata": {},
   "outputs": [],
   "source": [
    "# Load exact betweenness values for each instance\n",
    "exactValues = dict()\n",
    "exactValueDir = \"/home/moritz/Seminar/output/brandes/\"\n",
    "for instance in cfg.all_instances():\n",
    "    try:\n",
    "        with open(os.path.join(exactValueDir, instance.filename + '.out-full'), 'r') as f:\n",
    "            exactValues[instance.filename] = numpy.loadtxt(f)\n",
    "    except e:\n",
    "        print(e)"
   ]
  },
  {
   "cell_type": "code",
   "execution_count": null,
   "metadata": {},
   "outputs": [],
   "source": [
    "# Load the overall running times into a single list.\n",
    "def load_file(run, f):\n",
    "    data = yaml.load(f)\n",
    "    return {\n",
    "        'experiment': run.experiment.name,\n",
    "        'instance': run.instance.filename,\n",
    "        'run_time': data['run_time'],\n",
    "        'parameters' : data['parameters']\n",
    "    }\n",
    "\n",
    "runs = cfg.collect_successful_results(load_file)"
   ]
  },
  {
   "cell_type": "code",
   "execution_count": null,
   "metadata": {},
   "outputs": [],
   "source": [
    "foundInstances = set([run['instance'] for run in runs if 'iters_per_step' in run['parameters'].keys()])\n",
    "len(foundInstances)"
   ]
  },
  {
   "cell_type": "code",
   "execution_count": null,
   "metadata": {},
   "outputs": [],
   "source": [
    "sortedInstances = sorted(foundInstances, key=lambda x : len(exactValues[x]) )\n",
    "sizes = [len(exactValues[instance]) for instance in sortedInstances]\n",
    "logSizes = [math.log(size) for size in sizes]\n",
    "len(sortedInstances)"
   ]
  },
  {
   "cell_type": "code",
   "execution_count": null,
   "metadata": {},
   "outputs": [],
   "source": [
    "classifiedTimes = dict()\n",
    "for run in runs:\n",
    "    if not 'iters_per_step' in run['parameters'].keys():\n",
    "        continue\n",
    "    if run['experiment'] != 'kadabra':\n",
    "        raise ValueError(\"iters_per_step parameter exists, but algo is \" + run['experiment'] + \".\")\n",
    "    iters = run['parameters']['iters_per_step']\n",
    "    instance = run['instance']\n",
    "    if not iters in classifiedTimes.keys():\n",
    "        classifiedTimes[iters] = dict()\n",
    "    if not instance in classifiedTimes[iters].keys():\n",
    "        classifiedTimes[iters][instance] = list()\n",
    "    \n",
    "    classifiedTimes[iters][instance].append(run)"
   ]
  },
  {
   "cell_type": "code",
   "execution_count": null,
   "metadata": {},
   "outputs": [],
   "source": [
    "sortedTimes = dict()\n",
    "for ips in classifiedTimes.keys():\n",
    "    sortedTimes[ips] = list()\n",
    "    for instance in sortedInstances:\n",
    "        sortedTimes[ips].append(classifiedTimes[ips][instance][0]['run_time'])"
   ]
  },
  {
   "cell_type": "code",
   "execution_count": null,
   "metadata": {},
   "outputs": [],
   "source": [
    "for ips in classifiedTimes.keys():\n",
    "    plt.plot(sizes, sortedTimes[ips], label=str(ips))\n",
    "plt.xscale('log')\n",
    "plt.yscale('log')\n",
    "plt.xlabel('nodes')\n",
    "plt.ylabel('seconds')\n",
    "plt.legend()\n",
    "plt.show()"
   ]
  },
  {
   "cell_type": "code",
   "execution_count": null,
   "metadata": {},
   "outputs": [],
   "source": [
    "import scipy\n",
    "import scipy.stats"
   ]
  },
  {
   "cell_type": "code",
   "execution_count": null,
   "metadata": {},
   "outputs": [],
   "source": [
    "import math\n",
    "import pymc3 as pm"
   ]
  }
 ],
 "metadata": {
  "kernelspec": {
   "display_name": "Python 3",
   "language": "python",
   "name": "python3"
  },
  "language_info": {
   "codemirror_mode": {
    "name": "ipython",
    "version": 3
   },
   "file_extension": ".py",
   "mimetype": "text/x-python",
   "name": "python",
   "nbconvert_exporter": "python",
   "pygments_lexer": "ipython3",
   "version": "3.6.7"
  }
 },
 "nbformat": 4,
 "nbformat_minor": 2
}
